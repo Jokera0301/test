{
 "cells": [
  {
   "cell_type": "code",
   "execution_count": null,
   "metadata": {},
   "outputs": [],
   "source": [
    "import pandas as pd\n",
    "import numpy as np\n",
    "from datetime import datetime, timedelta\n",
    "import math "
   ]
  },
  {
   "cell_type": "code",
   "execution_count": null,
   "metadata": {},
   "outputs": [],
   "source": [
    "%%time\n",
    "# Import xlsx file and store each sheet in to a df list\n",
    "xl_file = pd.ExcelFile('./data.xlsx',)\n",
    "\n",
    "dfs = {sheet_name: xl_file.parse(sheet_name) \n",
    "          for sheet_name in xl_file.sheet_names}\n",
    "\n",
    "# Data from each sheet can be accessed via key\n",
    "keyList = list(dfs.keys())\n",
    "# Data cleansing\n",
    "for key, df in dfs.items():\n",
    "    dfs[key].loc[:,'Confirmed'].fillna(value=0, inplace=True)\n",
    "    dfs[key].loc[:,'Deaths'].fillna(value=0, inplace=True)\n",
    "    dfs[key].loc[:,'Recovered'].fillna(value=0, inplace=True)\n",
    "    dfs[key]=dfs[key].astype({'Confirmed':'int64', 'Deaths':'int64', 'Recovered':'int64'})\n",
    "    # Change as China for coordinate search\n",
    "    dfs[key]=dfs[key].replace({'Country/Region':'Mainland China'}, 'China')\n",
    "    # Add a zero to the date so can be convert by datetime.strptime as 0-padded date\n",
    "    dfs[key]['Last Update'] = '0' + dfs[key]['Last Update']\n",
    "    # Convert time as Australian eastern daylight time\n",
    "    dfs[key]['Date_last_updated_AEDT'] = [datetime.strptime(d, '%m/%d/%Y %H:%M') for d in dfs[key]['Last Update']]\n",
    "    dfs[key]['Date_last_updated_AEDT'] = dfs[key]['Date_last_updated_AEDT'] + timedelta(hours=16)\n",
    "    \n",
    "# Check \n",
    "#dfs[keyList[0]].head()"
   ]
  }
 ],
 "metadata": {
  "kernelspec": {
   "display_name": "Python 3",
   "language": "python",
   "name": "python3"
  },
  "language_info": {
   "codemirror_mode": {
    "name": "ipython",
    "version": 3
   },
   "file_extension": ".py",
   "mimetype": "text/x-python",
   "name": "python",
   "nbconvert_exporter": "python",
   "pygments_lexer": "ipython3",
   "version": "3.6.9"
  },
  "toc": {
   "base_numbering": 1,
   "nav_menu": {},
   "number_sections": true,
   "sideBar": true,
   "skip_h1_title": false,
   "title_cell": "Table of Contents",
   "title_sidebar": "Contents",
   "toc_cell": false,
   "toc_position": {},
   "toc_section_display": true,
   "toc_window_display": false
  },
  "varInspector": {
   "cols": {
    "lenName": 16,
    "lenType": 16,
    "lenVar": 40
   },
   "kernels_config": {
    "python": {
     "delete_cmd_postfix": "",
     "delete_cmd_prefix": "del ",
     "library": "var_list.py",
     "varRefreshCmd": "print(var_dic_list())"
    },
    "r": {
     "delete_cmd_postfix": ") ",
     "delete_cmd_prefix": "rm(",
     "library": "var_list.r",
     "varRefreshCmd": "cat(var_dic_list()) "
    }
   },
   "types_to_exclude": [
    "module",
    "function",
    "builtin_function_or_method",
    "instance",
    "_Feature"
   ],
   "window_display": false
  }
 },
 "nbformat": 4,
 "nbformat_minor": 2
}
